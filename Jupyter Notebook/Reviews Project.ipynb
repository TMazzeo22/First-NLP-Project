{
 "cells": [
  {
   "cell_type": "markdown",
   "metadata": {
    "_uuid": "a52b7bb6ba31564543c74291d152759c92062078"
   },
   "source": [
    "Hello!\n",
    "\n",
    "When looking at reviews online is the body of text or the title the most helpful information in determining the rating of the product? \n",
    "\n",
    "This is kernel is meant to demonstrate a typical Machine Learning process flow as well as provide insight into online reviews. I had not had much experience with NLP and was excited to give this a try."
   ]
  },
  {
   "cell_type": "code",
   "execution_count": null,
   "metadata": {
    "_cell_guid": "b1076dfc-b9ad-4769-8c92-a6c4dae69d19",
    "_uuid": "8f2839f25d086af736a60e9eeb907d3b93b6e0e5",
    "collapsed": true
   },
   "outputs": [],
   "source": [
    "import numpy as np # linear algebra\n",
    "import pandas as pd # data processing, CSV file I/O (e.g. pd.read_csv)\n",
    "import matplotlib.pyplot as plt\n",
    "% matplotlib inline\n",
    "import seaborn as sns\n",
    "\n",
    "import os\n",
    "print(os.listdir(\"../input\"))"
   ]
  },
  {
   "cell_type": "markdown",
   "metadata": {
    "_uuid": "fa18bf60fba9955fe829b2f92cbcb02d60c4797b"
   },
   "source": [
    "Import our usual suspects and look at the data,  We should check the data dictionary to gain more information about each column before starting EDA."
   ]
  },
  {
   "cell_type": "code",
   "execution_count": null,
   "metadata": {
    "_cell_guid": "79c7e3d0-c299-4dcb-8224-4455121ee9b0",
    "_uuid": "d629ff2d2480ee46fbb7e2d37f6b5fab8052498a",
    "collapsed": true
   },
   "outputs": [],
   "source": [
    "df = pd.read_csv('../input/GrammarandProductReviews.csv')\n",
    "df.head(3)"
   ]
  },
  {
   "cell_type": "code",
   "execution_count": null,
   "metadata": {
    "_uuid": "6308124bf6986aa450337fa187d57165e8f5b189",
    "collapsed": true
   },
   "outputs": [],
   "source": [
    "df.info()"
   ]
  },
  {
   "cell_type": "markdown",
   "metadata": {
    "_uuid": "94c30714107c2ac462f462e454cf7eb655572671"
   },
   "source": [
    "We will be focusing on how to predict user review scores from the data. Becasue of this we will start our EDA by seperatley saving the dependant variable and doing some brief analysis on our target variable."
   ]
  },
  {
   "cell_type": "code",
   "execution_count": null,
   "metadata": {
    "_uuid": "019278e154567a6219b0ef38da6813a7b2aebd80",
    "collapsed": true
   },
   "outputs": [],
   "source": [
    "df['reviews.rating'].describe()"
   ]
  },
  {
   "cell_type": "code",
   "execution_count": null,
   "metadata": {
    "_uuid": "5a2e0aeed4c1683f07fef447ccc6f32102ee7159",
    "collapsed": true
   },
   "outputs": [],
   "source": [
    "sns.distplot(df['reviews.rating'],kde = False)"
   ]
  },
  {
   "cell_type": "markdown",
   "metadata": {
    "_uuid": "7cbf8d321d95b7a38ad7b3828f2a3b49c07ba2c8",
    "collapsed": true
   },
   "source": [
    "Data Munging and needed Transformations"
   ]
  },
  {
   "cell_type": "markdown",
   "metadata": {
    "_uuid": "e8a0a7ff865ac34cc702a7be90f4004920125bf0"
   },
   "source": [
    "The first item is to look at what data we are missing. Considering we are dealing with Online Reviews there may be a lot of fields that people do not always fill in. We will create a table showing what percent of values are missing from each column. From here we will decide what is acceptable and what needs to be altered."
   ]
  },
  {
   "cell_type": "code",
   "execution_count": null,
   "metadata": {
    "_uuid": "280ad7ac014112267008fe8c8f88592b418d742d",
    "collapsed": true
   },
   "outputs": [],
   "source": [
    "def missing_values(x):\n",
    "    Total = x.isnull().sum()\n",
    "    Percent = (Total / (len(x)))*100\n",
    "    Missing = pd.concat([Total,Percent], axis = 1)\n",
    "    Missing = Missing.rename(columns = {0: \"Total Missing Values\", 1:\"% Missing\"})\n",
    "    print(Missing)\n",
    "print(missing_values(df))"
   ]
  },
  {
   "cell_type": "markdown",
   "metadata": {
    "_uuid": "87bd4eeee5f2d596eb4a71c56f291cb607b384cf",
    "collapsed": true
   },
   "source": [
    "Because this is a starting analysis we are going to keep it simple and drop all columns that have at least 1/3 of their data missing. In addition, we are going to drop all rows in \"reviews.text\" and \"reviews.title\"  that are missing data. This is because they are missing a very small % and it is going to be the focus of this analysis,"
   ]
  },
  {
   "cell_type": "code",
   "execution_count": null,
   "metadata": {
    "_uuid": "a4649cad5fea7d3b2ce0281c0c9777ec44b02156",
    "collapsed": true
   },
   "outputs": [],
   "source": [
    "textframe = df.drop(['reviews.userCity', 'reviews.userProvince', 'reviews.didPurchase', 'reviews.id','reviews.numHelpful', 'ean'], axis = 1)"
   ]
  },
  {
   "cell_type": "code",
   "execution_count": null,
   "metadata": {
    "_uuid": "7601ef68fd9157145de279ebbc7364e12c872ad9",
    "collapsed": true
   },
   "outputs": [],
   "source": [
    "textframe = textframe.dropna(subset=['reviews.text'])\n",
    "textframe = textframe.dropna(subset=['reviews.title'])"
   ]
  },
  {
   "cell_type": "code",
   "execution_count": null,
   "metadata": {
    "_uuid": "cdec4c59fc3c7ced92e6cb8fd438ede8b01d1b98",
    "collapsed": true
   },
   "outputs": [],
   "source": [
    "def missing_values(x):\n",
    "    Total = x.isnull().sum()\n",
    "    Percent = (Total / (len(x)))*100\n",
    "    Missing = pd.concat([Total,Percent], axis = 1)\n",
    "    Missing = Missing.rename(columns = {0: \"Total Missing Values\", 1:\"% Missing\"})\n",
    "    print(Missing)\n",
    "print(missing_values(textframe))"
   ]
  },
  {
   "cell_type": "markdown",
   "metadata": {
    "_uuid": "d720d36c04111b7f99eb552e6f95430848658e38"
   },
   "source": [
    "We can see that we have eliminated some unnessesary infromation from our dataset and cleaned up the \"text\" and \"title\" datasets. We have to be careful we are not eliminating too much infrormation when our dataset is small; however, with \"only\" 70,000 lines of data we should have enough information."
   ]
  },
  {
   "cell_type": "code",
   "execution_count": null,
   "metadata": {
    "_uuid": "a06d146d6a9c115d6dbb03ae05ece09488a82fa9",
    "collapsed": true
   },
   "outputs": [],
   "source": [
    "textframe.info()"
   ]
  },
  {
   "cell_type": "markdown",
   "metadata": {
    "_uuid": "7994d9653fda3b410e338a16e19d1e8c4910bf50"
   },
   "source": [
    "FIrst, lets start by making a word cloud to see what are the most common words that people use in their title and reviews."
   ]
  },
  {
   "cell_type": "code",
   "execution_count": null,
   "metadata": {
    "_uuid": "0da8a008c788fbebb943c57115c9b40fd0e8cbd5",
    "collapsed": true
   },
   "outputs": [],
   "source": [
    "from wordcloud import WordCloud, STOPWORDS\n",
    "stopwords = set(STOPWORDS)\n",
    "\n",
    "def show_wordcloud(data, title = None):\n",
    "    wordcloud = WordCloud(stopwords = stopwords,\n",
    "                          max_words = 300,\n",
    "                          max_font_size = 45,\n",
    "                          scale = 2).generate(str(data))\n",
    "    \n",
    "    fig = plt.figure(figsize = (15,15))\n",
    "    plt.imshow(wordcloud)\n",
    "    plt.show()"
   ]
  },
  {
   "cell_type": "code",
   "execution_count": null,
   "metadata": {
    "_uuid": "5e23457769943c24fbd8f5a13215e06133612339",
    "collapsed": true
   },
   "outputs": [],
   "source": [
    "show_wordcloud(textframe['reviews.text'])"
   ]
  },
  {
   "cell_type": "code",
   "execution_count": null,
   "metadata": {
    "_uuid": "7eff0f31ab26d539b7bf99b69fde921ceb6fdc82",
    "collapsed": true
   },
   "outputs": [],
   "source": [
    "show_wordcloud(textframe['reviews.title'])"
   ]
  },
  {
   "cell_type": "markdown",
   "metadata": {
    "_uuid": "415c498f63e0a99f9445d5ad2a0eb35177ade6b0"
   },
   "source": [
    "Intuition and a quick look at the wordclouds between the title and the text seems to show many more descriptive words being used for the title. This makes sense as it is suppose to draw people in to reading the rest of the review.\n",
    "\n",
    "After doing this I wanted to add the length of the title and the length of the review to this analysis and do some quick analysis."
   ]
  },
  {
   "cell_type": "code",
   "execution_count": null,
   "metadata": {
    "_uuid": "9aabdca16fdb4d29a1404ad7f51a179d28a224ad",
    "collapsed": true
   },
   "outputs": [],
   "source": [
    "textframe[\"text_length\"] = textframe['reviews.text'].apply(len)\n",
    "textframe[\"title_length\"] = textframe['reviews.title'].apply(len)"
   ]
  },
  {
   "cell_type": "code",
   "execution_count": null,
   "metadata": {
    "_uuid": "3cffc0e43d23531a18cbfcd71d895715315f08e6",
    "collapsed": true
   },
   "outputs": [],
   "source": [
    "sns.jointplot(textframe['text_length'], textframe['title_length'])"
   ]
  },
  {
   "cell_type": "code",
   "execution_count": null,
   "metadata": {
    "_uuid": "bae762ca558dbed6402aac05db75249c8b98f657",
    "collapsed": true
   },
   "outputs": [],
   "source": [
    "sns.set(font_scale = 1.0)\n",
    "g = sns.FacetGrid(textframe, col = 'reviews.rating', size = 5)\n",
    "g.map(plt.hist, 'text_length')"
   ]
  },
  {
   "cell_type": "code",
   "execution_count": null,
   "metadata": {
    "_uuid": "b5b8e700bb9f5ad0edb7cb3f4e242af2748232e2",
    "collapsed": true
   },
   "outputs": [],
   "source": [
    "sns.set(font_scale = 1.0)\n",
    "g = sns.FacetGrid(textframe, col = 'reviews.rating', size = 5)\n",
    "g.map(plt.hist, 'title_length')"
   ]
  },
  {
   "cell_type": "markdown",
   "metadata": {
    "_uuid": "04a335c851b218b26c0e239c361f3e068cb00361"
   },
   "source": [
    "Let us use the n-gram tfidf vectorizer and see if we get better accuracy with just text, just the title, or a combination."
   ]
  },
  {
   "cell_type": "code",
   "execution_count": null,
   "metadata": {
    "_uuid": "48e2df4402850a2cd7cfed5b6394504d8a504968",
    "collapsed": true
   },
   "outputs": [],
   "source": []
  },
  {
   "cell_type": "code",
   "execution_count": null,
   "metadata": {
    "_uuid": "71fbfeb6b2c230390b091373bf2a90054acccea9",
    "collapsed": true
   },
   "outputs": [],
   "source": [
    "from sklearn.model_selection import cross_val_score, train_test_split\n",
    "from scipy.sparse import hstack\n",
    "from sklearn.feature_extraction.text import TfidfVectorizer"
   ]
  },
  {
   "cell_type": "code",
   "execution_count": null,
   "metadata": {
    "_uuid": "256cc597901415c53e5374f6eb3eb4d2ef994c51",
    "collapsed": true
   },
   "outputs": [],
   "source": [
    "word_vectorizer = TfidfVectorizer(\n",
    "    min_df = 3,\n",
    "    strip_accents = 'unicode',\n",
    "    max_features = None,\n",
    "    analyzer = 'word',\n",
    "    token_pattern = r'\\w{1,}',\n",
    "    ngram_range = (1,1), \n",
    "    use_idf = 1,\n",
    "    smooth_idf = 1,\n",
    "    sublinear_tf=1,\n",
    "    stop_words = 'english')\n",
    "\n",
    "word_vectorizer.fit(textframe[\"reviews.text\"])\n",
    "train_word_features = word_vectorizer.transform(textframe[\"reviews.text\"])"
   ]
  },
  {
   "cell_type": "code",
   "execution_count": null,
   "metadata": {
    "_uuid": "a7ed687f36cef2e14d2045ccb06fe86aaa2a23af",
    "collapsed": true
   },
   "outputs": [],
   "source": [
    "title_vectorizer = TfidfVectorizer(\n",
    "    min_df = 3,\n",
    "    strip_accents = 'unicode',\n",
    "    max_features = None,\n",
    "    analyzer = 'word',\n",
    "    token_pattern = r'\\w{1,}',\n",
    "    ngram_range = (1,1), \n",
    "    use_idf = 1,\n",
    "    smooth_idf = 1,\n",
    "    sublinear_tf=1,\n",
    "    stop_words = 'english')\n",
    "title_vectorizer.fit(textframe[\"reviews.title\"])\n",
    "train_title_features = word_vectorizer.transform(textframe[\"reviews.title\"])"
   ]
  },
  {
   "cell_type": "code",
   "execution_count": null,
   "metadata": {
    "_uuid": "aa7351e74a39790a4ccca4d7cbbecd9b1836556d",
    "collapsed": true
   },
   "outputs": [],
   "source": [
    "train_features = hstack([train_title_features, train_word_features])"
   ]
  },
  {
   "cell_type": "code",
   "execution_count": null,
   "metadata": {
    "_uuid": "34455fb174b458c7a51d4f0d7ad930dc0830507d",
    "collapsed": true
   },
   "outputs": [],
   "source": [
    "X_train, X_test, y_train, y_test = train_test_split(train_features,textframe[\"reviews.rating\"] ,test_size=0.2,random_state=101)"
   ]
  },
  {
   "cell_type": "markdown",
   "metadata": {
    "_uuid": "f9de6704ffdd3c6fdea0a60d1e4cc1a8d3e7eb02"
   },
   "source": [
    "First let's try a Random Forest Classifier to identify review ratings.'"
   ]
  },
  {
   "cell_type": "code",
   "execution_count": null,
   "metadata": {
    "_uuid": "57a5754ed5cc8ecf057b131fcf4be6d724be8d58",
    "collapsed": true
   },
   "outputs": [],
   "source": [
    "from sklearn.ensemble import RandomForestClassifier\n",
    "from sklearn.metrics import accuracy_score, confusion_matrix, classification_report"
   ]
  },
  {
   "cell_type": "code",
   "execution_count": null,
   "metadata": {
    "_uuid": "63739dd3873bf1e6647999d45e9a6aba2dd897cd",
    "collapsed": true
   },
   "outputs": [],
   "source": [
    "classifier = RandomForestClassifier(n_estimators = 20,min_samples_leaf = 3 )\n",
    "classifier.fit(X_train,y_train)"
   ]
  },
  {
   "cell_type": "code",
   "execution_count": null,
   "metadata": {
    "_uuid": "652fc4bd472a6b18d3d640d5469b699266f59091",
    "collapsed": true
   },
   "outputs": [],
   "source": [
    "preds=classifier.predict(X_test)"
   ]
  },
  {
   "cell_type": "code",
   "execution_count": null,
   "metadata": {
    "_uuid": "750d0bf5d4f090ff056626d1102ded9e94076f2b",
    "collapsed": true
   },
   "outputs": [],
   "source": [
    "print(accuracy_score(y_test,preds))"
   ]
  },
  {
   "cell_type": "code",
   "execution_count": null,
   "metadata": {
    "_uuid": "21dec9723d76fcb115d89decb5178ed128ddbc55",
    "collapsed": true
   },
   "outputs": [],
   "source": [
    "preds=classifier.predict(X_test)"
   ]
  },
  {
   "cell_type": "code",
   "execution_count": null,
   "metadata": {
    "_uuid": "22e8acf2ff4b73e8ee9a5918a6593fdd60eacf60",
    "collapsed": true
   },
   "outputs": [],
   "source": [
    "print(accuracy_score(y_test,preds))"
   ]
  },
  {
   "cell_type": "code",
   "execution_count": null,
   "metadata": {
    "_uuid": "b0f7f5912515f7409d82ba537664570896030515",
    "collapsed": true
   },
   "outputs": [],
   "source": [
    "from sklearn.naive_bayes import MultinomialNB"
   ]
  },
  {
   "cell_type": "code",
   "execution_count": null,
   "metadata": {
    "_uuid": "0c8b86dfcb8707f639ad9b00adf022179ff104b1",
    "collapsed": true
   },
   "outputs": [],
   "source": [
    "clf = MultinomialNB().fit(X_train, y_train)"
   ]
  },
  {
   "cell_type": "code",
   "execution_count": null,
   "metadata": {
    "_uuid": "cd4ae2fa1a171a7cb68a0399f989005534e3bc1b",
    "collapsed": true
   },
   "outputs": [],
   "source": [
    "predsclf = clf.predict(X_test)"
   ]
  },
  {
   "cell_type": "code",
   "execution_count": null,
   "metadata": {
    "_uuid": "fb43ce6f28ac95b6a5722d19492e24ca52750205",
    "collapsed": true
   },
   "outputs": [],
   "source": [
    "print(accuracy_score(y_test,predsclf))"
   ]
  },
  {
   "cell_type": "code",
   "execution_count": null,
   "metadata": {
    "_uuid": "5ead052c7750781117da670fa8125de4fa36ca36",
    "collapsed": true
   },
   "outputs": [],
   "source": [
    "from sklearn.svm import SVC"
   ]
  },
  {
   "cell_type": "code",
   "execution_count": null,
   "metadata": {
    "_uuid": "5bf74798d87de11d3099be018a967883bd6d8000",
    "collapsed": true
   },
   "outputs": [],
   "source": [
    "model = SVC()"
   ]
  },
  {
   "cell_type": "code",
   "execution_count": null,
   "metadata": {
    "_uuid": "c1ec2d55c844e246891fa8ad39d58a8bd3e4aca4",
    "collapsed": true
   },
   "outputs": [],
   "source": [
    "model.fit(X_train,y_train)"
   ]
  },
  {
   "cell_type": "code",
   "execution_count": null,
   "metadata": {
    "_uuid": "363bc6cd97673865a43ea3f211d6a212a3397652",
    "collapsed": true
   },
   "outputs": [],
   "source": [
    "predsvm = model.predict(X_test)"
   ]
  },
  {
   "cell_type": "code",
   "execution_count": null,
   "metadata": {
    "_uuid": "70d05b0f10a71084ab91b1a35225b895d0f3445f",
    "collapsed": true
   },
   "outputs": [],
   "source": [
    "print(accuracy_score(y_test,predsvm))"
   ]
  },
  {
   "cell_type": "code",
   "execution_count": null,
   "metadata": {
    "_uuid": "f2071e9cb1038dd18d750de336ea70b3b46f7279",
    "collapsed": true
   },
   "outputs": [],
   "source": [
    "param_grid = {'C': [0.1,1, 10, 100, 1000], 'gamma': [1,0.1,0.01,0.001,0.0001], 'kernel': ['rbf']} "
   ]
  },
  {
   "cell_type": "code",
   "execution_count": null,
   "metadata": {
    "_uuid": "44c5c23083888aee6affdf1395b0c8407cfeaa75",
    "collapsed": true
   },
   "outputs": [],
   "source": [
    "from sklearn.model_selection import GridSearchCV"
   ]
  },
  {
   "cell_type": "code",
   "execution_count": null,
   "metadata": {
    "_uuid": "7904f4eae305472e593e02b892d1c21ae31e8b4b",
    "collapsed": true
   },
   "outputs": [],
   "source": [
    "grid = GridSearchCV(SVC(),param_grid,refit=True,verbose=3)"
   ]
  },
  {
   "cell_type": "code",
   "execution_count": null,
   "metadata": {
    "_uuid": "3725c34091cef7c8a07f53d3a3d8ca1ff50d21a7",
    "collapsed": true
   },
   "outputs": [],
   "source": [
    "grid.fit(X_train,y_train)"
   ]
  },
  {
   "cell_type": "code",
   "execution_count": null,
   "metadata": {
    "_uuid": "46bc15e109aa2484c15fefc95e1cca80870b89cb",
    "collapsed": true
   },
   "outputs": [],
   "source": []
  }
 ],
 "metadata": {
  "kernelspec": {
   "display_name": "Python 3",
   "language": "python",
   "name": "python3"
  },
  "language_info": {
   "codemirror_mode": {
    "name": "ipython",
    "version": 3
   },
   "file_extension": ".py",
   "mimetype": "text/x-python",
   "name": "python",
   "nbconvert_exporter": "python",
   "pygments_lexer": "ipython3",
   "version": "3.6.4"
  }
 },
 "nbformat": 4,
 "nbformat_minor": 1
}
